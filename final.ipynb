{
 "cells": [
  {
   "cell_type": "code",
   "execution_count": 9,
   "id": "0d2c0f54-837b-4265-a760-cc571fbd396b",
   "metadata": {},
   "outputs": [],
   "source": [
    "import testutility as util"
   ]
  },
  {
   "cell_type": "code",
   "execution_count": 10,
   "id": "26cf2c69-167f-49ab-9623-2907eadb988c",
   "metadata": {},
   "outputs": [
    {
     "name": "stdout",
     "output_type": "stream",
     "text": [
      "Overwriting testutility.py\n"
     ]
    }
   ],
   "source": [
    "%%writefile testutility.py\n",
    "import logging\n",
    "import os\n",
    "import subprocess\n",
    "import yaml\n",
    "import pandas as pd\n",
    "import datetime \n",
    "import gc\n",
    "import re\n",
    "\n",
    "def read_config_file(filepath):\n",
    "    with open(filepath, 'r') as stream:\n",
    "        try:\n",
    "            return yaml.safe_load(stream)\n",
    "        except yaml.YAMLError as exc:\n",
    "            logging.error(exc)\n",
    "            \n",
    "def read_csv_file(filepath, delimiter):\n",
    "    try:\n",
    "        df = pd.read_csv(filepath, delimiter=delimiter)\n",
    "        return df\n",
    "    except Exception as exc:\n",
    "        logging.error(exc)\n",
    "        return None\n",
    "\n",
    "def standardize_column_names(df):\n",
    "    df.columns = [col.strip().replace(' ', '_').lower() for col in df.columns]\n",
    "    return df\n",
    "\n",
    "def validate_columns(df, yaml_filepath):\n",
    "    try:\n",
    "        with open(yaml_filepath, 'r') as yaml_file:\n",
    "            schema = yaml.safe_load(yaml_file)\n",
    "        expected_columns = schema['columns']\n",
    "        if list(df.columns) != expected_columns:\n",
    "            raise ValueError(\"Column names or order do not match the schema.\")\n",
    "        if len(df.columns) != len(expected_columns):\n",
    "            raise ValueError(\"Number of columns do not match the schema.\")\n",
    "    except Exception as exc:\n",
    "        logging.error(exc)\n",
    "        return False\n",
    "    return True\n",
    "\n",
    "def write_gz_file(df, output_filepath, delimiter):\n",
    "    try:\n",
    "        with gzip.open(output_filepath, 'wt') as gz_file:\n",
    "            df.to_csv(gz_file, sep=delimiter, index=False)\n",
    "    except Exception as exc:\n",
    "        logging.error(exc)\n",
    "\n",
    "def summary(df, filepath):\n",
    "    summary = {\n",
    "        'total_rows': len(df),\n",
    "        'total_columns': len(df.columns),\n",
    "        'file_size': os.path.getsize(filepath)\n",
    "    }\n",
    "    return summary\n",
    "\n"
   ]
  },
  {
   "cell_type": "code",
   "execution_count": 11,
   "id": "06e1728a-dd6c-4fa0-ac12-7f3553d29ad5",
   "metadata": {},
   "outputs": [
    {
     "name": "stdout",
     "output_type": "stream",
     "text": [
      "Overwriting file.yaml\n"
     ]
    }
   ],
   "source": [
    "%%writefile file.yaml\n",
    "file_type: csv\n",
    "dataset_name: winequality-red\n",
    "file_name: winequality-red\n",
    "columns:\n",
    "- fixed_acidity\n",
    "- volatile_acidity\n",
    "- citric_acid\n",
    "- residual_sugar\n",
    "- chlorides\n",
    "- free_sulfur_dioxide\n",
    "- total_sulfur_dioxide\n",
    "- density\n",
    "- ph\n",
    "- sulphates\n",
    "- alcohol\n",
    "- quality\n",
    "separator: ;\n",
    "delimiter: ;"
   ]
  },
  {
   "cell_type": "code",
   "execution_count": 12,
   "id": "4998aadd-1327-485c-a041-9580b5c684b4",
   "metadata": {},
   "outputs": [
    {
     "name": "stderr",
     "output_type": "stream",
     "text": [
      "ERROR:root:while scanning a simple key\n",
      "  in \"winequality-red.yaml\", line 19, column 1\n",
      "could not find expected ':'\n",
      "  in \"winequality-red.yaml\", line 20, column 1\n"
     ]
    }
   ],
   "source": [
    "config_data = util.read_config_file(\"winequality-red.yaml\")\n",
    "config_data"
   ]
  },
  {
   "cell_type": "code",
   "execution_count": 16,
   "id": "746ca650-35ae-48a0-ab0a-41892af12bdc",
   "metadata": {},
   "outputs": [
    {
     "name": "stderr",
     "output_type": "stream",
     "text": [
      "ERROR:root:name 'gzip' is not defined\n"
     ]
    },
    {
     "name": "stdout",
     "output_type": "stream",
     "text": [
      "{'total_rows': 1599, 'total_columns': 12, 'file_size': 84199}\n"
     ]
    }
   ],
   "source": [
    "data = util.read_csv_file('winequality-red.csv', ';')\n",
    "data = util.standardize_column_names(data)\n",
    "\n",
    "if util.validate_columns(data, 'file.yaml'):\n",
    "    # 写入gz文件\n",
    "    util.write_gz_file(data, 'winequality-red.gz', '|')\n",
    "    \n",
    "    # 创建文件摘要\n",
    "    summary = util.summary(data, 'winequality-red.csv')\n",
    "    print(summary)\n",
    "else:\n",
    "    print(\"Column validation failed.\")\n"
   ]
  },
  {
   "cell_type": "code",
   "execution_count": null,
   "id": "cb546906-950c-4005-9dac-9680801a721b",
   "metadata": {},
   "outputs": [],
   "source": []
  },
  {
   "cell_type": "code",
   "execution_count": null,
   "id": "af72f681-c48c-4862-a764-4260ae636fe1",
   "metadata": {},
   "outputs": [],
   "source": []
  }
 ],
 "metadata": {
  "kernelspec": {
   "display_name": "Python 3",
   "language": "python",
   "name": "python3"
  },
  "language_info": {
   "codemirror_mode": {
    "name": "ipython",
    "version": 3
   },
   "file_extension": ".py",
   "mimetype": "text/x-python",
   "name": "python",
   "nbconvert_exporter": "python",
   "pygments_lexer": "ipython3",
   "version": "3.10.10"
  }
 },
 "nbformat": 4,
 "nbformat_minor": 5
}
